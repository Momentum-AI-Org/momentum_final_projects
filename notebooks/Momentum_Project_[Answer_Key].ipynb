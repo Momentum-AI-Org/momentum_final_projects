{
  "nbformat": 4,
  "nbformat_minor": 0,
  "metadata": {
    "colab": {
      "name": "Momentum Project [Answer Key].ipynb",
      "provenance": [],
      "collapsed_sections": []
    },
    "kernelspec": {
      "name": "python3",
      "display_name": "Python 3"
    },
    "language_info": {
      "name": "python"
    },
    "accelerator": "GPU",
    "gpuClass": "standard"
  },
  "cells": [
    {
      "cell_type": "code",
      "execution_count": null,
      "metadata": {
        "id": "PuTo64Pofs1T"
      },
      "outputs": [],
      "source": [
        "### DO NOT CHANGE ###\n",
        "%load_ext autoreload\n",
        "%autoreload 2\n",
        "\n",
        "! git clone https://github.com/Momentum-AI-Org/momentum_final_projects.git\n",
        "%cd momentum_final_projects\n",
        "! pip install -e .\n",
        "\n",
        "from api.config import ProjectConfig\n",
        "from api.setup_script import setup_script\n",
        "from utils.constants import PROJECT_TYPE\n",
        "\n",
        "# one of SHOES, FRUIT, PIZZA, RECAPTCHA, WEATHER, ANIMALS, MICROORGANISM,\n",
        "# DEVDIGIT, AUTOMOBILE\n",
        "ProjectConfig.PROJECT_NAME = PROJECT_TYPE.FRUIT\n",
        "setup_script()\n",
        "\n",
        "from api.common import (\n",
        "    download_data,\n",
        "    get_train_test_datasets,\n",
        "    get_model,\n",
        "    train_model,\n",
        "    display_loss_curves,\n",
        "    visualize_dataset,\n",
        "    evaluate_pretrain_accuracy,\n",
        "    evaluate_test_accuracy,\n",
        "    visualize_predictions,\n",
        ")\n",
        "### DO NOT CHANGE ###"
      ]
    },
    {
      "cell_type": "code",
      "source": [
        "download_data()"
      ],
      "metadata": {
        "id": "HzM5a16HnsOV"
      },
      "execution_count": null,
      "outputs": []
    },
    {
      "cell_type": "code",
      "source": [
        "train_dataset, test_dataset = get_train_test_datasets(100, 25)"
      ],
      "metadata": {
        "id": "ldWEJck6KCto"
      },
      "execution_count": null,
      "outputs": []
    },
    {
      "cell_type": "code",
      "source": [
        "visualize_dataset(train_dataset)"
      ],
      "metadata": {
        "id": "n_7N-20kcex8"
      },
      "execution_count": null,
      "outputs": []
    },
    {
      "cell_type": "code",
      "source": [
        "model = get_model(depth=8, num_filters=512)"
      ],
      "metadata": {
        "id": "24jbNhFoKXoF"
      },
      "execution_count": null,
      "outputs": []
    },
    {
      "cell_type": "code",
      "source": [
        "evaluate_pretrain_accuracy(model, test_dataset)"
      ],
      "metadata": {
        "id": "90dUBnYEcjBo"
      },
      "execution_count": null,
      "outputs": []
    },
    {
      "cell_type": "code",
      "source": [
        "train_model(model, train_dataset, test_dataset, epochs=40, lr=0.001)"
      ],
      "metadata": {
        "id": "ifkopB46KaQX"
      },
      "execution_count": null,
      "outputs": []
    },
    {
      "cell_type": "code",
      "source": [
        "display_loss_curves()"
      ],
      "metadata": {
        "id": "M04KFUPacoYg"
      },
      "execution_count": null,
      "outputs": []
    },
    {
      "cell_type": "code",
      "source": [
        "evaluate_test_accuracy(model, test_dataset)"
      ],
      "metadata": {
        "id": "azWI-juzcx8n"
      },
      "execution_count": null,
      "outputs": []
    },
    {
      "cell_type": "code",
      "source": [
        "visualize_predictions(model, test_dataset)"
      ],
      "metadata": {
        "id": "MJ4nRxP5cz2u"
      },
      "execution_count": null,
      "outputs": []
    }
  ]
}